{
 "cells": [
  {
   "cell_type": "markdown",
   "id": "51ae7078-c3bf-464f-803f-c845d9c7f568",
   "metadata": {},
   "source": [
    "fonte de dados: https://www.kaggle.com/datasets/allanbruno/airbnb-rio-de-janeiro/codeo explorar os dados."
   ]
  },
  {
   "cell_type": "code",
   "execution_count": 1,
   "id": "96ca888b-586b-43a9-9efe-7cb65b1e2edd",
   "metadata": {},
   "outputs": [],
   "source": [
    "#Principais bibliotecas para exploração de dados\n",
    "import pandas as pd\n",
    "import numpy as np\n",
    "import matplotlib\n",
    "import matplotlib.pyplot as plt\n",
    "import pathlib\n",
    "%matplotlib inline\n",
    "import seaborn as sn\n",
    "from ydata_profiling import ProfileReport\n",
    "import ipywidgets as widget"
   ]
  },
  {
   "cell_type": "code",
   "execution_count": 2,
   "id": "5de33fb0-1851-4e76-8690-8ed409d2cdf5",
   "metadata": {},
   "outputs": [
    {
     "name": "stdout",
     "output_type": "stream",
     "text": [
      "2018 2019 2020 2018 2019 2018 2019 2019 2020 2019 2020 2018 2019 2019 2018 2019 2020 2019 2020 2019 2018 2018 2019 2018 2019 "
     ]
    }
   ],
   "source": [
    "#Leitura dos DF\n",
    "\n",
    "meses = {'jan': 1, 'fev': 2, 'mar': 3, 'abr': 4, 'mai': 5, 'jun': 6,\n",
    "      'jul': 7, 'ago': 8, 'set': 9, 'out': 10,'nov': 11, 'dez':12}\n",
    "\n",
    "repositorio = pathlib.Path('C:/Users/jonat/Predictive_analysis_Airbnb_property_rental/Data')\n",
    "\n",
    "dfs = []\n",
    "\n",
    "for arquivo in repositorio.iterdir():\n",
    "    nome_mes = arquivo.name[:3]\n",
    "    mes = meses[nome_mes]\n",
    "    ano = arquivo.stem[-4:]\n",
    "    print(ano, end=\" \")\n",
    "    \n",
    "    df = pd.read_csv(repositorio / arquivo.name, low_memory=False)\n",
    "    df['ano'] = ano\n",
    "    df['mes'] = mes\n",
    "    dfs.append(df)\n",
    "    \n",
    "df_final = pd.concat(dfs, ignore_index=True)"
   ]
  },
  {
   "cell_type": "code",
   "execution_count": 3,
   "id": "87f50455-0829-40fb-b39c-524b66d6f2b3",
   "metadata": {
    "scrolled": true
   },
   "outputs": [],
   "source": [
    "df_final.to_parquet('C:/Users/jonat/Predictive_analysis_Airbnb_property_rental/Data/df_final.parquet')"
   ]
  },
  {
   "cell_type": "code",
   "execution_count": 4,
   "id": "f5edacaf-b2dc-49db-b152-54e1edaad1ef",
   "metadata": {},
   "outputs": [],
   "source": [
    "df_final.to_feather('C:/Users/jonat/Predictive_analysis_Airbnb_property_rental/Data/df_final.feather', compression='zstd')"
   ]
  },
  {
   "cell_type": "code",
   "execution_count": null,
   "id": "9ec27dc8-1ffd-4b78-8a6c-aad3ded128f4",
   "metadata": {},
   "outputs": [],
   "source": []
  }
 ],
 "metadata": {
  "kernelspec": {
   "display_name": "Python 3 (ipykernel)",
   "language": "python",
   "name": "python3"
  },
  "language_info": {
   "codemirror_mode": {
    "name": "ipython",
    "version": 3
   },
   "file_extension": ".py",
   "mimetype": "text/x-python",
   "name": "python",
   "nbconvert_exporter": "python",
   "pygments_lexer": "ipython3",
   "version": "3.12.4"
  }
 },
 "nbformat": 4,
 "nbformat_minor": 5
}
