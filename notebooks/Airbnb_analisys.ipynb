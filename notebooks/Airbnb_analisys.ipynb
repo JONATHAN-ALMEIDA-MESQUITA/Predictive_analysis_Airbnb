{
 "cells": [
  {
   "cell_type": "markdown",
   "id": "51ae7078-c3bf-464f-803f-c845d9c7f568",
   "metadata": {},
   "source": [
    "# 🏡 Airbnb Rio de Janeiro - Predicting Daily Rates\n"
   ]
  },
  {
   "cell_type": "markdown",
   "id": "93cec257-4979-47d2-ab3e-cc85133fc7b0",
   "metadata": {},
   "source": [
    "![Jupyter](https://2.bp.blogspot.com/-RThEwEqQrtc/Uk2l9uuty4I/AAAAAAAAnE0/ZsPTiyseI_A/s1600/Rio-de-Janeiro.jpg)"
   ]
  },
  {
   "cell_type": "markdown",
   "id": "5524c13b-77fc-4456-bb41-2226d8c77526",
   "metadata": {},
   "source": [
    "## 📋 Introdução\n",
    "\n",
    "> Este projeto tem como objetivo prever o valor das diárias de imóveis listados no Airbnb na cidade do Rio de Janeiro, utilizando características como localização, tamanho, número de quartos, e avaliações de hóspedes. Ao final, será desenvolvido um modelo preditivo que poderá ser utilizado por anfitriões para ajustar o preço de seus imóveis de acordo com a demanda e as características da propriedade.\n",
    "\n",
    "> Para conduzir este projeto de forma estruturada e eficiente, será utilizado o framework CRISP-DM (Cross-Industry Standard Process for Data Mining), seguindo as seguintes etapas:\n",
    "\n",
    "1. **Entendimento do Negócio 🏢:** Compreender o contexto do Airbnb e a importância de prever o preço correto para as diárias.\n",
    "   \n",
    "2. **Entendimento dos Dados 🔍:** Explorar e analisar os datasets de hospedagem disponíveis.\n",
    "3. **Preparação dos Dados 🛠️:** Limpar, transformar e preparar os dados para modelagem.\n",
    "4. **Modelagem 🤖:** Treinar modelos de machine learning para prever o valor das diárias.\n",
    "5. **Avaliação 📊:** Avaliar o desempenho dos modelos.\n",
    "6. **Implantação 🚀:** Desenvolver uma aplicação interativa em Streamlit.\n",
    "   \n",
    "> Vale ressaltar que esta é a parte do projeto focada na ciência de dados, responsável por análise, modelagem e predição. Paralelamente, o projeto também conta com uma estrutura robusta de engenharia de dados, que está sendo conduzida por um colega, encarregado de preparar e otimizar o pipeline de dados."
   ]
  },
  {
   "cell_type": "code",
   "execution_count": 2,
   "id": "96ca888b-586b-43a9-9efe-7cb65b1e2edd",
   "metadata": {},
   "outputs": [],
   "source": [
    "#Principais bibliotecas para exploração de dados\n",
    "import pandas as pd\n",
    "import numpy as np\n",
    "import matplotlib\n",
    "import matplotlib.pyplot as plt\n",
    "import pathlib\n",
    "%matplotlib inline\n",
    "import seaborn as sn\n",
    "from ydata_profiling import ProfileReport\n",
    "import ipywidgets as widget"
   ]
  },
  {
   "cell_type": "code",
   "execution_count": 66,
   "id": "5de33fb0-1851-4e76-8690-8ed409d2cdf5",
   "metadata": {},
   "outputs": [
    {
     "name": "stdout",
     "output_type": "stream",
     "text": [
      "2018 2019 2020 2018 2019 2018 2019 2019 2020 2019 2020 2018 2019 2019 2018 2019 2020 2019 2020 2019 2018 2018 2019 2018 2019 "
     ]
    }
   ],
   "source": [
    "#Leitura dos DF\n",
    "\n",
    "# criando um dicionario para utilizar na criação da feature mes que sera lida no arquivo .csv\n",
    "meses = {'jan': 1, 'fev': 2, 'mar': 3, 'abr': 4, 'mai': 5, 'jun': 6,\n",
    "      'jul': 7, 'ago': 8, 'set': 9, 'out': 10,'nov': 11, 'dez':12}\n",
    "\n",
    "#Adicionando o caminho da pasta na variavel repositorio\n",
    "repositorio = pathlib.Path('C:/Users/jonat/OneDrive/Área de Trabalho/Airbnb bases')\n",
    "\n",
    "#criando uma lista para armazenar os dfs que seram apendados durante o loop\n",
    "dfs = []\n",
    "\n",
    "for arquivo in repositorio.iterdir():\n",
    "    nome_mes = arquivo.name[:3]\n",
    "    mes = meses[nome_mes]\n",
    "    ano = arquivo.stem[-4:]\n",
    "    print(ano, end=\" \")\n",
    "    \n",
    "    df = pd.read_csv(repositorio / arquivo.name, low_memory=False)\n",
    "    df['ano'] = ano\n",
    "    df['mes'] = mes\n",
    "    dfs.append(df)\n",
    "    \n",
    "df_final = pd.concat(dfs, ignore_index=True)"
   ]
  },
  {
   "cell_type": "code",
   "execution_count": 67,
   "id": "9ec27dc8-1ffd-4b78-8a6c-aad3ded128f4",
   "metadata": {},
   "outputs": [
    {
     "data": {
      "text/plain": [
       "(902210, 108)"
      ]
     },
     "execution_count": 67,
     "metadata": {},
     "output_type": "execute_result"
    }
   ],
   "source": [
    "df_final.shape"
   ]
  },
  {
   "cell_type": "markdown",
   "id": "d00c653e-5303-4e81-b7cd-b2098de8c9d0",
   "metadata": {},
   "source": [
    "#### 1° Analise exploratoria:\n",
    "\n",
    "> Como o DF possui 108 colunas, vou extrair as 1000 primeiras linhas do DF para selecionar apenas as colunas relevantes para modelagem dos dados"
   ]
  },
  {
   "cell_type": "code",
   "execution_count": 69,
   "id": "5460f265-8780-4b8c-bede-cfd4216ff46d",
   "metadata": {},
   "outputs": [],
   "source": [
    "#Salvando as 100 primeiras linhas para analisar o conteudo das colunas (identificação de colunas com dados duplicados)\n",
    "df_final.head(1000).to_excel('C:/Users/jonat/Predictive_analysis_Airbnb_property_rental/Results/100_primeiros_registros.xlsx', index=False)"
   ]
  },
  {
   "cell_type": "code",
   "execution_count": 70,
   "id": "945d3a3f-6df4-4ab1-9db3-93a8f614b992",
   "metadata": {},
   "outputs": [],
   "source": [
    "#separando as colunas que identifiquei como mais relevantes para analise do modelo \n",
    "colunas = ['id','host_response_time','host_response_rate','host_is_superhost',\n",
    "           'host_listings_count','latitude','longitude','property_type','room_type',\n",
    "           'accommodates','bathrooms','bedrooms','beds','bed_type','amenities','price',\n",
    "           'security_deposit','cleaning_fee','guests_included','extra_people','minimum_nights',\n",
    "           'maximum_nights','number_of_reviews','review_scores_rating','review_scores_accuracy',\n",
    "           'review_scores_cleanliness','review_scores_checkin','review_scores_communication',\n",
    "           'review_scores_location','review_scores_value','instant_bookable',\n",
    "           'is_business_travel_ready','cancellation_policy','ano','mes']\n",
    "\n",
    "#Filtrando o df apenas com apenas as colunas selecionadas\n",
    "df_final = df_final.loc[:, colunas]"
   ]
  },
  {
   "cell_type": "code",
   "execution_count": 34,
   "id": "d691f2f8-c439-4e95-9453-268ee4643cd3",
   "metadata": {},
   "outputs": [
    {
     "name": "stdout",
     "output_type": "stream",
     "text": [
      "<class 'pandas.core.frame.DataFrame'>\n",
      "RangeIndex: 902210 entries, 0 to 902209\n",
      "Data columns (total 35 columns):\n",
      " #   Column                       Non-Null Count   Dtype  \n",
      "---  ------                       --------------   -----  \n",
      " 0   id                           902210 non-null  int64  \n",
      " 1   host_response_time           500367 non-null  object \n",
      " 2   host_response_rate           500364 non-null  object \n",
      " 3   host_is_superhost            901750 non-null  object \n",
      " 4   host_listings_count          901750 non-null  float64\n",
      " 5   latitude                     902210 non-null  float64\n",
      " 6   longitude                    902210 non-null  float64\n",
      " 7   property_type                902210 non-null  object \n",
      " 8   room_type                    902210 non-null  object \n",
      " 9   accommodates                 902210 non-null  int64  \n",
      " 10  bathrooms                    900486 non-null  float64\n",
      " 11  bedrooms                     901360 non-null  float64\n",
      " 12  beds                         899708 non-null  float64\n",
      " 13  bed_type                     902210 non-null  object \n",
      " 14  amenities                    902210 non-null  object \n",
      " 15  price                        902210 non-null  object \n",
      " 16  security_deposit             480930 non-null  object \n",
      " 17  cleaning_fee                 588704 non-null  object \n",
      " 18  guests_included              902210 non-null  int64  \n",
      " 19  extra_people                 902210 non-null  object \n",
      " 20  minimum_nights               902210 non-null  int64  \n",
      " 21  maximum_nights               902210 non-null  int64  \n",
      " 22  number_of_reviews            902210 non-null  int64  \n",
      " 23  review_scores_rating         454194 non-null  float64\n",
      " 24  review_scores_accuracy       453624 non-null  float64\n",
      " 25  review_scores_cleanliness    453797 non-null  float64\n",
      " 26  review_scores_checkin        453560 non-null  float64\n",
      " 27  review_scores_communication  453795 non-null  float64\n",
      " 28  review_scores_location       453657 non-null  float64\n",
      " 29  review_scores_value          453659 non-null  float64\n",
      " 30  instant_bookable             902210 non-null  object \n",
      " 31  is_business_travel_ready     902210 non-null  object \n",
      " 32  cancellation_policy          902210 non-null  object \n",
      " 33  ano                          902210 non-null  object \n",
      " 34  mes                          902210 non-null  int64  \n",
      "dtypes: float64(13), int64(7), object(15)\n",
      "memory usage: 240.9+ MB\n"
     ]
    }
   ],
   "source": [
    "df_final.info()"
   ]
  },
  {
   "cell_type": "markdown",
   "id": "dd9165f4-d5ce-41a5-994f-27049d72147c",
   "metadata": {},
   "source": [
    "#### Tratamento de volores nulos"
   ]
  },
  {
   "cell_type": "code",
   "execution_count": 71,
   "id": "e47703a6-6a51-414a-afac-c66cc7ad1265",
   "metadata": {},
   "outputs": [
    {
     "data": {
      "text/plain": [
       "id                                  0\n",
       "host_response_time             401843\n",
       "host_response_rate             401846\n",
       "host_is_superhost                 460\n",
       "host_listings_count               460\n",
       "latitude                            0\n",
       "longitude                           0\n",
       "property_type                       0\n",
       "room_type                           0\n",
       "accommodates                        0\n",
       "bathrooms                        1724\n",
       "bedrooms                          850\n",
       "beds                             2502\n",
       "bed_type                            0\n",
       "amenities                           0\n",
       "price                               0\n",
       "security_deposit               421280\n",
       "cleaning_fee                   313506\n",
       "guests_included                     0\n",
       "extra_people                        0\n",
       "minimum_nights                      0\n",
       "maximum_nights                      0\n",
       "number_of_reviews                   0\n",
       "review_scores_rating           448016\n",
       "review_scores_accuracy         448586\n",
       "review_scores_cleanliness      448413\n",
       "review_scores_checkin          448650\n",
       "review_scores_communication    448415\n",
       "review_scores_location         448553\n",
       "review_scores_value            448551\n",
       "instant_bookable                    0\n",
       "is_business_travel_ready            0\n",
       "cancellation_policy                 0\n",
       "ano                                 0\n",
       "mes                                 0\n",
       "dtype: int64"
      ]
     },
     "execution_count": 71,
     "metadata": {},
     "output_type": "execute_result"
    }
   ],
   "source": [
    "df_final.isnull().sum()"
   ]
  },
  {
   "cell_type": "code",
   "execution_count": 72,
   "id": "a8f92f7b-3917-4487-a6ce-8410e5b26a85",
   "metadata": {},
   "outputs": [
    {
     "name": "stdout",
     "output_type": "stream",
     "text": [
      "0.4971691734740249\n"
     ]
    }
   ],
   "source": [
    "percent_dados = 448551 / 902210\n",
    "print(percent_dados)"
   ]
  },
  {
   "cell_type": "markdown",
   "id": "1f0a9af7-cf8b-487d-b903-d72c8e8819aa",
   "metadata": {},
   "source": [
    "##### Lista de colunas dropadas\n",
    "\n",
    " > Por serem colunas com muitos valores nulos onde concentram cerca de 50% de valores nulos e por entender que estas colunas não serao totalmente relevantes para o modelo de provisão, optei por excluir.\n",
    "\n",
    "\n",
    "<details>\n",
    "  <summary>Clique para expandir!</summary>\n",
    "  <b> <p>host_response_time: </p> </b>\n",
    "  <b> <p>host_response_rate: </p> </b>\n",
    "  <b> <p>security_deposit: </p> </b>\n",
    "  <b> <p>cleaning_fee: </p> </b>\n",
    "  <b> <p>review_scores_rating: </p> </b>\n",
    "  <b> <p>review_scores_accuracy: </p> </b>\n",
    "  <b> <p>review_scores_cleanliness: </p> </b>\n",
    "  <b> <p>review_scores_cleanliness: </p> </b>\n",
    "  <b> <p>review_scores_checkin: </p> </b>\n",
    "  <b> <p>review_scores_communication: </p> </b>\n",
    "  <b> <p>review_scores_value: </p> </b>\n",
    "\n",
    "      \n",
    "</detais>\n",
    "\n",
    "\n"
   ]
  },
  {
   "cell_type": "code",
   "execution_count": 73,
   "id": "28e22e42-6101-43d5-b768-04d5655b70b3",
   "metadata": {},
   "outputs": [
    {
     "data": {
      "text/plain": [
       "id                             0\n",
       "host_is_superhost            460\n",
       "host_listings_count          460\n",
       "latitude                       0\n",
       "longitude                      0\n",
       "property_type                  0\n",
       "room_type                      0\n",
       "accommodates                   0\n",
       "bathrooms                   1724\n",
       "bedrooms                     850\n",
       "beds                        2502\n",
       "bed_type                       0\n",
       "amenities                      0\n",
       "price                          0\n",
       "guests_included                0\n",
       "extra_people                   0\n",
       "minimum_nights                 0\n",
       "maximum_nights                 0\n",
       "number_of_reviews              0\n",
       "instant_bookable               0\n",
       "is_business_travel_ready       0\n",
       "cancellation_policy            0\n",
       "ano                            0\n",
       "mes                            0\n",
       "dtype: int64"
      ]
     },
     "execution_count": 73,
     "metadata": {},
     "output_type": "execute_result"
    }
   ],
   "source": [
    "#percorrendo o df para encontrar colunas com valores nulos acima de 300k de linhas e excluirabs\n",
    "\n",
    "for coluna in df_final:\n",
    "    if df_final[coluna].isnull().sum() > 300000:\n",
    "        df_final = df_final.drop(coluna, axis=1)\n",
    "\n",
    "#soma de volores nulos sem as colunas exluidas\n",
    "df_final.isnull().sum()"
   ]
  },
  {
   "cell_type": "code",
   "execution_count": 74,
   "id": "114156ac-9315-4c34-aa9f-5f18389b1351",
   "metadata": {},
   "outputs": [
    {
     "data": {
      "text/plain": [
       "(897709, 24)"
      ]
     },
     "execution_count": 74,
     "metadata": {},
     "output_type": "execute_result"
    }
   ],
   "source": [
    "#Excluindo linhas vazias do DF\n",
    "df_final = df_final.dropna()\n",
    "\n",
    "df_final.shape"
   ]
  },
  {
   "cell_type": "code",
   "execution_count": 77,
   "id": "156d58bd-5ac7-4e59-b74a-a5d1983772a1",
   "metadata": {},
   "outputs": [
    {
     "name": "stdout",
     "output_type": "stream",
     "text": [
      "<class 'pandas.core.frame.DataFrame'>\n",
      "Index: 897709 entries, 0 to 902209\n",
      "Data columns (total 24 columns):\n",
      " #   Column                    Non-Null Count   Dtype  \n",
      "---  ------                    --------------   -----  \n",
      " 0   id                        897709 non-null  int64  \n",
      " 1   host_is_superhost         897709 non-null  object \n",
      " 2   host_listings_count       897709 non-null  int32  \n",
      " 3   latitude                  897709 non-null  float64\n",
      " 4   longitude                 897709 non-null  float64\n",
      " 5   property_type             897709 non-null  object \n",
      " 6   room_type                 897709 non-null  object \n",
      " 7   accommodates              897709 non-null  int64  \n",
      " 8   bathrooms                 897709 non-null  int32  \n",
      " 9   bedrooms                  897709 non-null  int32  \n",
      " 10  beds                      897709 non-null  int32  \n",
      " 11  bed_type                  897709 non-null  object \n",
      " 12  amenities                 897709 non-null  object \n",
      " 13  price                     897709 non-null  float64\n",
      " 14  guests_included           897709 non-null  int64  \n",
      " 15  extra_people              897709 non-null  float64\n",
      " 16  minimum_nights            897709 non-null  int64  \n",
      " 17  maximum_nights            897709 non-null  int64  \n",
      " 18  number_of_reviews         897709 non-null  int64  \n",
      " 19  instant_bookable          897709 non-null  object \n",
      " 20  is_business_travel_ready  897709 non-null  object \n",
      " 21  cancellation_policy       897709 non-null  object \n",
      " 22  ano                       897709 non-null  object \n",
      " 23  mes                       897709 non-null  int64  \n",
      "dtypes: float64(4), int32(4), int64(7), object(9)\n",
      "memory usage: 157.5+ MB\n"
     ]
    }
   ],
   "source": [
    "df_final.info()"
   ]
  },
  {
   "cell_type": "code",
   "execution_count": 76,
   "id": "9b6a6c57-2e56-4fd5-8bf2-d20d07d2d028",
   "metadata": {},
   "outputs": [],
   "source": [
    "#Ajustando os tipos de dados do df\n",
    "\n",
    "##Alterando os tipos de dados de flt para int\n",
    "df_final[\"host_listings_count\"] = df_final[\"host_listings_count\"].astype(int)\n",
    "df_final[\"bathrooms\"] = df_final[\"bathrooms\"].astype(int)\n",
    "df_final[\"bedrooms\"] = df_final[\"bedrooms\"].astype(int)\n",
    "df_final[\"beds\"] = df_final[\"beds\"].astype(int)\n",
    "\n",
    "#Alterando os tipos de dados de obj para float subistituindo os caracteres especiais\n",
    "df_final[\"price\"] = df_final[\"price\"].str.replace('$', '')\n",
    "df_final[\"price\"] = df_final[\"price\"].str.replace(',', '')\n",
    "df_final[\"price\"] = df_final[\"price\"].astype(float)\n",
    "\n",
    "df_final[\"extra_people\"] = df_final[\"extra_people\"].str.replace('$', '')\n",
    "df_final[\"extra_people\"] = df_final[\"extra_people\"].str.replace(',', '')\n",
    "df_final[\"extra_people\"] = df_final[\"extra_people\"].astype(float)"
   ]
  },
  {
   "cell_type": "code",
   "execution_count": null,
   "id": "e723fab3-4207-4cb1-9578-dc45d9f7e763",
   "metadata": {},
   "outputs": [],
   "source": []
  }
 ],
 "metadata": {
  "kernelspec": {
   "display_name": "Python 3 (ipykernel)",
   "language": "python",
   "name": "python3"
  },
  "language_info": {
   "codemirror_mode": {
    "name": "ipython",
    "version": 3
   },
   "file_extension": ".py",
   "mimetype": "text/x-python",
   "name": "python",
   "nbconvert_exporter": "python",
   "pygments_lexer": "ipython3",
   "version": "3.12.4"
  }
 },
 "nbformat": 4,
 "nbformat_minor": 5
}
