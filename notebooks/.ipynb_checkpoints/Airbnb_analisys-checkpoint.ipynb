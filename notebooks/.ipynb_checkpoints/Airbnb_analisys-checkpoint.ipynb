{
 "cells": [
  {
   "cell_type": "markdown",
   "id": "51ae7078-c3bf-464f-803f-c845d9c7f568",
   "metadata": {},
   "source": [
    "fonte de dados: https://www.kaggle.com/datasets/allanbruno/airbnb-rio-de-janeiro/codeo explorar os dados."
   ]
  },
  {
   "cell_type": "code",
   "execution_count": 17,
   "id": "96ca888b-586b-43a9-9efe-7cb65b1e2edd",
   "metadata": {},
   "outputs": [],
   "source": [
    "#Principais bibliotecas para exploração de dados\n",
    "import pandas as pd\n",
    "import numpy as np\n",
    "import matplotlib\n",
    "import matplotlib.pyplot as plt\n",
    "import pathlib\n",
    "%matplotlib inline\n",
    "import seaborn as sn\n",
    "from ydata_profiling import ProfileReport\n",
    "import ipywidgets as widget"
   ]
  },
  {
   "cell_type": "code",
   "execution_count": 28,
   "id": "5de33fb0-1851-4e76-8690-8ed409d2cdf5",
   "metadata": {},
   "outputs": [
    {
     "ename": "FileNotFoundError",
     "evalue": "[WinError 3] O sistema não pode encontrar o caminho especificado: 'C:\\\\Users\\\\jonat\\\\Predictive_analysis_Airbnb_property_renta\\\\Data'",
     "output_type": "error",
     "traceback": [
      "\u001b[1;31m---------------------------------------------------------------------------\u001b[0m",
      "\u001b[1;31mFileNotFoundError\u001b[0m                         Traceback (most recent call last)",
      "Cell \u001b[1;32mIn[28], line 10\u001b[0m\n\u001b[0;32m      6\u001b[0m repositorio \u001b[38;5;241m=\u001b[39m pathlib\u001b[38;5;241m.\u001b[39mPath(\u001b[38;5;124m'\u001b[39m\u001b[38;5;124mC:/Users/jonat/Predictive_analysis_Airbnb_property_renta/Data\u001b[39m\u001b[38;5;124m'\u001b[39m)\n\u001b[0;32m      8\u001b[0m dfs \u001b[38;5;241m=\u001b[39m []\n\u001b[1;32m---> 10\u001b[0m \u001b[38;5;28;01mfor\u001b[39;00m arquivo \u001b[38;5;129;01min\u001b[39;00m repositorio\u001b[38;5;241m.\u001b[39miterdir():\n\u001b[0;32m     11\u001b[0m     nome_mes \u001b[38;5;241m=\u001b[39m arquivo\u001b[38;5;241m.\u001b[39mname[:\u001b[38;5;241m3\u001b[39m]\n\u001b[0;32m     12\u001b[0m     mes \u001b[38;5;241m=\u001b[39m meses[nome_mes]\n",
      "File \u001b[1;32mC:\\ProgramData\\anaconda3\\Lib\\pathlib.py:1056\u001b[0m, in \u001b[0;36mPath.iterdir\u001b[1;34m(self)\u001b[0m\n\u001b[0;32m   1050\u001b[0m \u001b[38;5;28;01mdef\u001b[39;00m \u001b[38;5;21miterdir\u001b[39m(\u001b[38;5;28mself\u001b[39m):\n\u001b[0;32m   1051\u001b[0m \u001b[38;5;250m    \u001b[39m\u001b[38;5;124;03m\"\"\"Yield path objects of the directory contents.\u001b[39;00m\n\u001b[0;32m   1052\u001b[0m \n\u001b[0;32m   1053\u001b[0m \u001b[38;5;124;03m    The children are yielded in arbitrary order, and the\u001b[39;00m\n\u001b[0;32m   1054\u001b[0m \u001b[38;5;124;03m    special entries '.' and '..' are not included.\u001b[39;00m\n\u001b[0;32m   1055\u001b[0m \u001b[38;5;124;03m    \"\"\"\u001b[39;00m\n\u001b[1;32m-> 1056\u001b[0m     \u001b[38;5;28;01mfor\u001b[39;00m name \u001b[38;5;129;01min\u001b[39;00m os\u001b[38;5;241m.\u001b[39mlistdir(\u001b[38;5;28mself\u001b[39m):\n\u001b[0;32m   1057\u001b[0m         \u001b[38;5;28;01myield\u001b[39;00m \u001b[38;5;28mself\u001b[39m\u001b[38;5;241m.\u001b[39m_make_child_relpath(name)\n",
      "\u001b[1;31mFileNotFoundError\u001b[0m: [WinError 3] O sistema não pode encontrar o caminho especificado: 'C:\\\\Users\\\\jonat\\\\Predictive_analysis_Airbnb_property_renta\\\\Data'"
     ]
    }
   ],
   "source": [
    "#Leitura dos DF\n",
    "\n",
    "meses = {'jan': 1, 'fev': 2, 'mar': 3, 'abr': 4, 'mai': 5, 'jun': 6,\n",
    "      'jul': 7, 'ago': 8, 'set': 9, 'nov': 11, 'dez':12}\n",
    "\n",
    "repositorio = pathlib.Path('C:/Users/jonat/Predictive_analysis_Airbnb_property_renta/Data')\n",
    "\n",
    "dfs = []\n",
    "\n",
    "for arquivo in repositorio.iterdir():\n",
    "    nome_mes = arquivo.name[:3]\n",
    "    mes = meses[nome_mes]\n",
    "    ano = arquivo.stem[-4:]\n",
    "    print(ano)\n",
    "\n",
    "    df = pd.read_csv(repositorio)\n",
    "    df['ano'] = ano\n",
    "    df['mes'] = mes\n",
    "    dfs = dfs.append(df)"
   ]
  },
  {
   "cell_type": "code",
   "execution_count": null,
   "id": "c0539f73-fe96-47f1-a8e0-36e09c6248d4",
   "metadata": {},
   "outputs": [],
   "source": []
  }
 ],
 "metadata": {
  "kernelspec": {
   "display_name": "Python 3 (ipykernel)",
   "language": "python",
   "name": "python3"
  },
  "language_info": {
   "codemirror_mode": {
    "name": "ipython",
    "version": 3
   },
   "file_extension": ".py",
   "mimetype": "text/x-python",
   "name": "python",
   "nbconvert_exporter": "python",
   "pygments_lexer": "ipython3",
   "version": "3.12.4"
  }
 },
 "nbformat": 4,
 "nbformat_minor": 5
}
