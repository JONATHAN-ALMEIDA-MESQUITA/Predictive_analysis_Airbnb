{
 "cells": [
  {
   "cell_type": "markdown",
   "id": "51ae7078-c3bf-464f-803f-c845d9c7f568",
   "metadata": {},
   "source": [
    "fonte de dados: https://www.kaggle.com/datasets/allanbruno/airbnb-rio-de-janeiro/codeo explorar os dados."
   ]
  },
  {
   "cell_type": "code",
   "execution_count": null,
   "id": "96ca888b-586b-43a9-9efe-7cb65b1e2edd",
   "metadata": {},
   "outputs": [],
   "source": []
  }
 ],
 "metadata": {
  "kernelspec": {
   "display_name": "Python 3 (ipykernel)",
   "language": "python",
   "name": "python3"
  },
  "language_info": {
   "codemirror_mode": {
    "name": "ipython",
    "version": 3
   },
   "file_extension": ".py",
   "mimetype": "text/x-python",
   "name": "python",
   "nbconvert_exporter": "python",
   "pygments_lexer": "ipython3",
   "version": "3.12.4"
  }
 },
 "nbformat": 4,
 "nbformat_minor": 5
}
